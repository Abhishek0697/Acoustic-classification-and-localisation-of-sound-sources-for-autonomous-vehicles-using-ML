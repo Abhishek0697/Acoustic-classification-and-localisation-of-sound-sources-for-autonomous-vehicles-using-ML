{
 "cells": [
  {
   "cell_type": "code",
   "execution_count": 1,
   "metadata": {},
   "outputs": [],
   "source": [
    "import numpy as np\n",
    "import matplotlib.pyplot as plt\n",
    "%matplotlib inline\n",
    "import sklearn.metrics"
   ]
  },
  {
   "cell_type": "markdown",
   "metadata": {},
   "source": [
    "# Preparing Data"
   ]
  },
  {
   "cell_type": "code",
   "execution_count": 2,
   "metadata": {},
   "outputs": [],
   "source": [
    "#importing data matrices\n",
    "child_play_feat=np.genfromtxt('child_play_feat.txt',delimiter=' ')\n",
    "dog_bark_feat=np.genfromtxt('dog_bark_feat.txt',delimiter=' ')\n",
    "siren_feat=np.genfromtxt('siren_feat.txt',delimiter=' ')\n",
    "\n",
    "#define inputs\n",
    "X=np.vstack((child_play_feat,dog_bark_feat,siren_feat))\n",
    "\n",
    "#define labels\n",
    "yc=np.ones(child_play_feat.shape[0])\n",
    "yd=np.ones(dog_bark_feat.shape[0])*2\n",
    "ys=np.ones(siren_feat.shape[0])*3\n",
    "y=np.hstack((yc,yd,ys))"
   ]
  },
  {
   "cell_type": "code",
   "execution_count": 3,
   "metadata": {},
   "outputs": [],
   "source": [
    "#Splitting in training and test sets\n",
    "from sklearn.model_selection import train_test_split\n",
    "X_train, X_test, y_train, y_test = train_test_split(X, y, test_size = 0.20)"
   ]
  },
  {
   "cell_type": "code",
   "execution_count": 4,
   "metadata": {},
   "outputs": [],
   "source": [
    "#Feature Scaling\n",
    "from sklearn.preprocessing import StandardScaler\n",
    "scaler = StandardScaler()\n",
    "scaler.fit(X_train)\n",
    "\n",
    "X_train = scaler.transform(X_train)\n",
    "X_test = scaler.transform(X_test)"
   ]
  },
  {
   "cell_type": "markdown",
   "metadata": {},
   "source": [
    "# SVM Linear Kernel"
   ]
  },
  {
   "cell_type": "code",
   "execution_count": 5,
   "metadata": {},
   "outputs": [
    {
     "data": {
      "text/plain": [
       "SVC(C=1.0, cache_size=200, class_weight=None, coef0=0.0,\n",
       "    decision_function_shape='ovr', degree=3, gamma='auto_deprecated',\n",
       "    kernel='linear', max_iter=-1, probability=False, random_state=None,\n",
       "    shrinking=True, tol=0.001, verbose=False)"
      ]
     },
     "execution_count": 5,
     "metadata": {},
     "output_type": "execute_result"
    }
   ],
   "source": [
    "#Training of SVM\n",
    "from sklearn.svm import SVC\n",
    "svclassifier = SVC(kernel='linear')\n",
    "svclassifier.fit(X_train, y_train)"
   ]
  },
  {
   "cell_type": "code",
   "execution_count": 6,
   "metadata": {},
   "outputs": [],
   "source": [
    "#prediction of SVM\n",
    "y_pred = svclassifier.predict(X_test)"
   ]
  },
  {
   "cell_type": "code",
   "execution_count": 7,
   "metadata": {
    "scrolled": true
   },
   "outputs": [
    {
     "name": "stdout",
     "output_type": "stream",
     "text": [
      "[[ 4  6  2]\n",
      " [ 3 27  3]\n",
      " [ 2  0  1]]\n",
      "              precision    recall  f1-score   support\n",
      "\n",
      "         1.0       0.44      0.33      0.38        12\n",
      "         2.0       0.82      0.82      0.82        33\n",
      "         3.0       0.17      0.33      0.22         3\n",
      "\n",
      "    accuracy                           0.67        48\n",
      "   macro avg       0.48      0.49      0.47        48\n",
      "weighted avg       0.68      0.67      0.67        48\n",
      "\n"
     ]
    }
   ],
   "source": [
    "from sklearn.metrics import classification_report, confusion_matrix\n",
    "print(confusion_matrix(y_test,y_pred))\n",
    "print(classification_report(y_test,y_pred))"
   ]
  },
  {
   "cell_type": "markdown",
   "metadata": {},
   "source": [
    "# Gaussian Kernel"
   ]
  },
  {
   "cell_type": "code",
   "execution_count": 8,
   "metadata": {},
   "outputs": [
    {
     "name": "stdout",
     "output_type": "stream",
     "text": [
      "[[ 4  8  0]\n",
      " [ 4 29  0]\n",
      " [ 0  2  1]]\n",
      "              precision    recall  f1-score   support\n",
      "\n",
      "         1.0       0.50      0.33      0.40        12\n",
      "         2.0       0.74      0.88      0.81        33\n",
      "         3.0       1.00      0.33      0.50         3\n",
      "\n",
      "    accuracy                           0.71        48\n",
      "   macro avg       0.75      0.52      0.57        48\n",
      "weighted avg       0.70      0.71      0.69        48\n",
      "\n"
     ]
    }
   ],
   "source": [
    "#Training of SVM with Gaussian Kernel\n",
    "from sklearn.svm import SVC\n",
    "svclassifier_gaussian = SVC(kernel='rbf',gamma='auto')\n",
    "svclassifier_gaussian.fit(X_train, y_train)\n",
    "\n",
    "#prediction of SVM\n",
    "y_pred_gaussian = svclassifier_gaussian.predict(X_test)\n",
    "\n",
    "from sklearn.metrics import classification_report, confusion_matrix\n",
    "print(confusion_matrix(y_test,y_pred_gaussian))\n",
    "print(classification_report(y_test,y_pred_gaussian))"
   ]
  },
  {
   "cell_type": "markdown",
   "metadata": {},
   "source": [
    "# K-nn with K=10"
   ]
  },
  {
   "cell_type": "code",
   "execution_count": 9,
   "metadata": {},
   "outputs": [],
   "source": [
    "#Training\n",
    "from sklearn.neighbors import KNeighborsClassifier\n",
    "classifier = KNeighborsClassifier(n_neighbors=10)\n",
    "classifier.fit(X_train, y_train)\n",
    "#Prediction\n",
    "y_pred_Knn = classifier.predict(X_test)"
   ]
  },
  {
   "cell_type": "code",
   "execution_count": 10,
   "metadata": {},
   "outputs": [
    {
     "name": "stdout",
     "output_type": "stream",
     "text": [
      "[[ 3  2  7]\n",
      " [12 14  7]\n",
      " [ 1  1  1]]\n",
      "              precision    recall  f1-score   support\n",
      "\n",
      "         1.0       0.19      0.25      0.21        12\n",
      "         2.0       0.82      0.42      0.56        33\n",
      "         3.0       0.07      0.33      0.11         3\n",
      "\n",
      "    accuracy                           0.38        48\n",
      "   macro avg       0.36      0.34      0.30        48\n",
      "weighted avg       0.62      0.38      0.45        48\n",
      "\n"
     ]
    }
   ],
   "source": [
    "from sklearn.metrics import classification_report, confusion_matrix\n",
    "print(confusion_matrix(y_test, y_pred_Knn))\n",
    "print(classification_report(y_test, y_pred_Knn))"
   ]
  },
  {
   "cell_type": "markdown",
   "metadata": {},
   "source": [
    "# Logistic Regression"
   ]
  },
  {
   "cell_type": "code",
   "execution_count": 11,
   "metadata": {
    "scrolled": true
   },
   "outputs": [
    {
     "name": "stdout",
     "output_type": "stream",
     "text": [
      "[[ 3  7  2]\n",
      " [ 3 27  3]\n",
      " [ 1  1  1]]\n",
      "              precision    recall  f1-score   support\n",
      "\n",
      "         1.0       0.43      0.25      0.32        12\n",
      "         2.0       0.77      0.82      0.79        33\n",
      "         3.0       0.17      0.33      0.22         3\n",
      "\n",
      "    accuracy                           0.65        48\n",
      "   macro avg       0.46      0.47      0.44        48\n",
      "weighted avg       0.65      0.65      0.64        48\n",
      "\n"
     ]
    }
   ],
   "source": [
    "from sklearn.linear_model import LogisticRegression\n",
    "logreg_clf = LogisticRegression(solver='newton-cg',multi_class='auto')\n",
    "logreg_clf.fit(X_train, y_train)\n",
    "y_pred_Logistic=logreg_clf.predict(X_test)\n",
    "\n",
    "from sklearn.metrics import classification_report, confusion_matrix\n",
    "print(confusion_matrix(y_test, y_pred_Logistic))\n",
    "print(classification_report(y_test, y_pred_Logistic))"
   ]
  },
  {
   "cell_type": "markdown",
   "metadata": {},
   "source": [
    "# Decision Tree"
   ]
  },
  {
   "cell_type": "code",
   "execution_count": 12,
   "metadata": {},
   "outputs": [
    {
     "name": "stdout",
     "output_type": "stream",
     "text": [
      "[[ 7  1  4]\n",
      " [10 20  3]\n",
      " [ 2  1  0]]\n",
      "              precision    recall  f1-score   support\n",
      "\n",
      "         1.0       0.37      0.58      0.45        12\n",
      "         2.0       0.91      0.61      0.73        33\n",
      "         3.0       0.00      0.00      0.00         3\n",
      "\n",
      "    accuracy                           0.56        48\n",
      "   macro avg       0.43      0.40      0.39        48\n",
      "weighted avg       0.72      0.56      0.61        48\n",
      "\n"
     ]
    }
   ],
   "source": [
    "#Training\n",
    "from sklearn.tree import DecisionTreeClassifier\n",
    "classifier_dtree = DecisionTreeClassifier()\n",
    "classifier_dtree.fit(X_train, y_train)\n",
    "#Testing\n",
    "y_pred_dtree = classifier_dtree.predict(X_test)\n",
    "\n",
    "from sklearn.metrics import classification_report, confusion_matrix\n",
    "print(confusion_matrix(y_test, y_pred_dtree))\n",
    "print(classification_report(y_test, y_pred_dtree))"
   ]
  },
  {
   "cell_type": "code",
   "execution_count": null,
   "metadata": {},
   "outputs": [],
   "source": []
  },
  {
   "cell_type": "code",
   "execution_count": null,
   "metadata": {},
   "outputs": [],
   "source": []
  },
  {
   "cell_type": "code",
   "execution_count": 13,
   "metadata": {},
   "outputs": [],
   "source": [
    "# #ROCAUC curve\n",
    "# from sklearn.metrics import roc_auc_score\n",
    "# sklearn.metrics.roc_auc_score(y_test,y_pred)"
   ]
  },
  {
   "cell_type": "code",
   "execution_count": null,
   "metadata": {},
   "outputs": [],
   "source": []
  }
 ],
 "metadata": {
  "kernelspec": {
   "display_name": "Python 3",
   "language": "python",
   "name": "python3"
  },
  "language_info": {
   "codemirror_mode": {
    "name": "ipython",
    "version": 3
   },
   "file_extension": ".py",
   "mimetype": "text/x-python",
   "name": "python",
   "nbconvert_exporter": "python",
   "pygments_lexer": "ipython3",
   "version": "3.7.3"
  }
 },
 "nbformat": 4,
 "nbformat_minor": 2
}
